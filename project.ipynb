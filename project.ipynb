{
 "cells": [
  {
   "cell_type": "code",
   "execution_count": 2,
   "metadata": {
    "collapsed": true
   },
   "outputs": [],
   "source": [
    "import numpy as np\n",
    "from itertools import chain"
   ]
  },
  {
   "cell_type": "code",
   "execution_count": 170,
   "metadata": {
    "collapsed": false
   },
   "outputs": [],
   "source": [
    "def gibbs(docs, num_topics, iterations=5000):\n",
    "    num_docs = len(docs)\n",
    "    \n",
    "    corpus = list(set(chain(*docs)))\n",
    "    num_words = len(corpus)\n",
    "    corpus_lookup = dict(zip(corpus, range(num_words)))\n",
    "    \n",
    "    current_topics = [np.random.randint(0, num_topics, len(words))\n",
    "                      for words in docs]\n",
    "    \n",
    "    topic_counts = np.zeros(num_topics)\n",
    "    for doc_topics in current_topics:\n",
    "        for topic in doc_topics:\n",
    "            topic_counts[topic] += 1\n",
    "\n",
    "    document_counts = np.zeros((num_docs, num_topics))    \n",
    "    for d, topics in enumerate(current_topics):\n",
    "        for t in range(num_topics):\n",
    "            document_counts[d][t] = sum(topics == t)\n",
    "            \n",
    "    word_counts = np.zeros((num_topics, num_words))\n",
    "    for d, doc in enumerate(docs):\n",
    "        for w, word in enumerate(doc):\n",
    "            topic = current_topics[d][w]\n",
    "            word_id = corpus_lookup[word]\n",
    "            word_counts[topic][word_id] += 1\n",
    "            \n",
    "    for _ in range(iterations):\n",
    "        for d, doc in enumerate(docs):\n",
    "            for w, word in enumerate(doc):\n",
    "                topic = current_topics[d][w]\n",
    "                document_counts[d][topic] -= 1\n",
    "                word_counts[topic][corpus_lookup[word]] -= 1\n",
    "                topic_counts[topic] -= 1\n",
    "\n",
    "                probs = np.zeros(num_topics)\n",
    "                for j in range(num_topics):\n",
    "                    probs[j] =  1 / num_topics # calculate\n",
    "\n",
    "                new_topic = np.where(np.random.multinomial(1, probs))[0][0]\n",
    "                current_topics[d][w] = new_topic\n",
    "                document_counts[d][new_topic] += 1\n",
    "                word_counts[new_topic][corpus_lookup[word]] += 1\n",
    "                topic_counts[new_topic] += 1\n",
    "\n",
    "    return current_topics, document_counts, word_counts, topic_counts"
   ]
  },
  {
   "cell_type": "code",
   "execution_count": 171,
   "metadata": {
    "collapsed": false
   },
   "outputs": [],
   "source": [
    "docs = [\n",
    "    [\n",
    "        \"where\", \"where\", \"where\", \"where\",\n",
    "        \"something\", \"something\",\n",
    "        \"what\",\"what\",\"what\",\"what\",\"what\",\n",
    "        \"who\", \"who\",\"who\",\"who\",\n",
    "    ],\n",
    "    [\n",
    "        \"where\",\"where\",\"where\",\"where\",\n",
    "        \"something\",\"something\",\"something\",\"something\",\n",
    "        \"chair\",\"chair\",\"chair\",\"chair\",\n",
    "        \"desk\",\"desk\",\"desk\",\"desk\",\n",
    "    ]\n",
    "] * 100"
   ]
  },
  {
   "cell_type": "code",
   "execution_count": null,
   "metadata": {
    "collapsed": false
   },
   "outputs": [],
   "source": [
    "gibbs(docs, 3)"
   ]
  },
  {
   "cell_type": "code",
   "execution_count": null,
   "metadata": {
    "collapsed": true
   },
   "outputs": [],
   "source": []
  }
 ],
 "metadata": {
  "kernelspec": {
   "display_name": "Python 3",
   "language": "python",
   "name": "python3"
  },
  "language_info": {
   "codemirror_mode": {
    "name": "ipython",
    "version": 3
   },
   "file_extension": ".py",
   "mimetype": "text/x-python",
   "name": "python",
   "nbconvert_exporter": "python",
   "pygments_lexer": "ipython3",
   "version": "3.6.0"
  }
 },
 "nbformat": 4,
 "nbformat_minor": 2
}
